{
 "cells": [
  {
   "cell_type": "code",
   "execution_count": null,
   "id": "17e03a30",
   "metadata": {
    "hideCode": false,
    "hideOutput": true,
    "hidePrompt": false,
    "pycharm": {
     "name": "#%%\n",
     "is_executing": true
    }
   },
   "outputs": [],
   "source": [
    "import numpy as np\n",
    "from matplotlib import pyplot as plt\n",
    "from PIL import Image, ImageOps\n",
    "import random\n",
    "import numpy as np\n",
    "import matplotlib.pyplot as plt\n",
    "\n",
    "from neural_network import activations, costs, nn as neural_network, layers, gui\n",
    "from neural_network.data import get_mnist_data, get_augmented_mnist_data, train_test_split\n",
    "from neural_network.filters import ALL_FILTERS\n",
    "from neural_network.data import get_mnist_data\n",
    "from neural_network.layers import Conv2D\n",
    "from neural_network.layers import MaxPooling2D\n",
    "from neural_network import filters"
   ]
  },
  {
   "cell_type": "code",
   "execution_count": null,
   "id": "a127ba8f",
   "metadata": {
    "hideCode": false,
    "hideOutput": true,
    "hidePrompt": false,
    "pycharm": {
     "name": "#%%\n"
    }
   },
   "outputs": [],
   "source": [
    "x, y = get_mnist_data(2560)"
   ]
  },
  {
   "cell_type": "markdown",
   "id": "5839691f",
   "metadata": {
    "hideCode": false,
    "hidePrompt": false,
    "pycharm": {
     "name": "#%% md\n"
    }
   },
   "source": [
    "# Neural Network "
   ]
  },
  {
   "cell_type": "markdown",
   "id": "1e36fbaa",
   "metadata": {
    "hideCode": false,
    "hidePrompt": false,
    "pycharm": {
     "name": "#%% md\n"
    }
   },
   "source": [
    "## Exploring data"
   ]
  },
  {
   "cell_type": "markdown",
   "id": "f6d67803",
   "metadata": {
    "hideCode": false,
    "hidePrompt": false,
    "pycharm": {
     "name": "#%% md\n"
    }
   },
   "source": [
    "### MNIST Dataset"
   ]
  },
  {
   "cell_type": "code",
   "execution_count": null,
   "id": "82546552",
   "metadata": {
    "hideCode": false,
    "hideOutput": true,
    "hidePrompt": false,
    "pycharm": {
     "name": "#%%\n"
    }
   },
   "outputs": [],
   "source": [
    "fig, axs = plt.subplots(3, 3, figsize=(9, 9))\n",
    "axs = axs.flatten()\n",
    "\n",
    "\n",
    "for i in range(9):\n",
    "    random_index = random.randint(0, len(x) - 1)\n",
    "    axs[i].imshow(x[random_index], cmap='gray')\n",
    "    axs[i].set_title(y[random_index])\n",
    "\n",
    "plt.show()"
   ]
  },
  {
   "cell_type": "markdown",
   "id": "400cee75",
   "metadata": {
    "hideCode": false,
    "hidePrompt": false,
    "pycharm": {
     "name": "#%% md\n"
    }
   },
   "source": [
    "### Conv2D"
   ]
  },
  {
   "cell_type": "code",
   "execution_count": null,
   "id": "61cfe582",
   "metadata": {
    "hideCode": false,
    "hideOutput": true,
    "hidePrompt": false,
    "pycharm": {
     "name": "#%%\n"
    }
   },
   "outputs": [],
   "source": [
    "img = x[7]\n",
    "\n",
    "conv2d = Conv2D(filters.ALL_FILTERS)\n",
    "output = conv2d.calculate_outputs(img)\n",
    "\n",
    "# Display the original and transformed images side by side\n",
    "fig, axs = plt.subplots(3, 3, figsize=(9, 9))\n",
    "axs = axs.flatten()\n",
    "axs[0].imshow(img, cmap='gray')\n",
    "axs[0].set_title('Base Image')\n",
    "\n",
    "for i, filter in enumerate(filters.ALL_FILTERS):\n",
    "    axs[i+1].imshow(output[:, :, i], cmap='gray')\n",
    "    axs[i+1].set_title(f'Filter {i}')\n",
    "\n",
    "plt.show()"
   ]
  },
  {
   "cell_type": "markdown",
   "id": "d0acc65a",
   "metadata": {
    "hideCode": false,
    "hidePrompt": false,
    "pycharm": {
     "name": "#%% md\n"
    }
   },
   "source": [
    "### MaxPooling2D"
   ]
  },
  {
   "cell_type": "code",
   "execution_count": null,
   "id": "9b6e99f0",
   "metadata": {
    "hideCode": false,
    "hideOutput": true,
    "hidePrompt": false,
    "pycharm": {
     "name": "#%%\n"
    }
   },
   "outputs": [],
   "source": [
    "img = x[7]\n",
    "\n",
    "conv2d = Conv2D(filters.ALL_FILTERS)\n",
    "max_pooling = MaxPooling2D()\n",
    "\n",
    "nparay = conv2d.calculate_outputs(img)\n",
    "output = max_pooling.calculate_outputs(nparay)\n",
    "\n",
    "# Display the original and transformed images side by side\n",
    "fig, axs = plt.subplots(3,3, figsize=(9,9))\n",
    "axs = axs.flatten()\n",
    "axs[0].imshow(img, cmap='gray')\n",
    "axs[0].set_title('Original')\n",
    "\n",
    "for i, filter in enumerate(filters.ALL_FILTERS):\n",
    "    axs[i+1].imshow(output[:, :, i-1], cmap='gray')\n",
    "    axs[i+1].set_title(f'Filter {i}')\n",
    "\n",
    "plt.show()"
   ]
  },
  {
   "cell_type": "markdown",
   "id": "e0a0eb46",
   "metadata": {
    "hideCode": false,
    "hidePrompt": false,
    "pycharm": {
     "name": "#%% md\n"
    }
   },
   "source": [
    "### Training the model"
   ]
  },
  {
   "cell_type": "code",
   "execution_count": null,
   "id": "9a16f720",
   "metadata": {
    "hideCode": false,
    "hidePrompt": false,
    "pycharm": {
     "name": "#%%\n"
    }
   },
   "outputs": [],
   "source": [
    "nn = neural_network.NeuralNetwork([\n",
    "    layers.Conv2D(ALL_FILTERS),\n",
    "    layers.MaxPooling2D(),\n",
    "    layers.Flatten(),\n",
    "    layers.Dense(13 * 13 *6, 128, activations.ReLU),\n",
    "    layers.Dense(128, 10, activations.Softmax),\n",
    "])\n",
    "\n",
    "one_hot = lambda y: np.eye(10)[y]\n",
    "\n",
    "y = np.array([one_hot(i) for i in y])\n",
    "x_train, x_test, y_train, y_test = train_test_split(x, y, test_size=0.2, random_state=42)\n",
    "train_data = np.array(list(zip(x_train, y_train)), dtype=object)    \n",
    "test_data = np.array(list(zip(x_test, y_test)), dtype=object)\n",
    "\n",
    "train_accuracies, train_costs = nn.train(\n",
    "    train_data, \n",
    "    test_data, \n",
    "    learn_rate=0.2, \n",
    "    cost=costs.CategoricalCrossEntropy, \n",
    "    batch_size=32, \n",
    "    epochs=3, \n",
    "    save=False, \n",
    "    file_name=\"neural_network.pkl\", \n",
    "    validate_per_batch=True,\n",
    "    validate_interval=6,\n",
    "    learn_method=\"threading\",\n",
    ")\n",
    "\n",
    "#  plot train accuracies, costs\n",
    "fig, (ax1, ax2) = plt.subplots(1, 2)\n",
    "ax1.plot(train_accuracies)\n",
    "ax1.set_title('Accuracy')\n",
    "ax1.set_ylim(0, 1)\n",
    "ax2.plot(train_costs)\n",
    "ax2.set_title('Cost')\n",
    "\n",
    "fig, axes = plt.subplots(3, 3, figsize=(6, 6))\n",
    "for i in range(3):\n",
    "    for j in range(3):\n",
    "        k = np.random.randint(len(test_data))\n",
    "        axes[i, j].imshow(test_data[k][0].reshape((28, 28)), cmap='gray')\n",
    "        expected = np.argmax(test_data[k][1])\n",
    "        predicted = np.argmax(nn.predict(test_data[k][0]))\n",
    "        axes[i, j].set_title(f\"Expected: {expected}\\nPredicted: {predicted}\")\n",
    "        axes[i, j].set_xticklabels([])\n",
    "        axes[i, j].set_yticklabels([])\n",
    "        axes[i, j].tick_params(axis='both', which='both', length=0)\n",
    "fig.subplots_adjust(hspace=0.5)\n",
    "plt.show()\n"
   ]
  }
 ],
 "metadata": {
  "hide_code_all_hidden": false,
  "kernelspec": {
   "display_name": "Python 3 (ipykernel)",
   "language": "python",
   "name": "python3"
  },
  "language_info": {
   "codemirror_mode": {
    "name": "ipython",
    "version": 3
   },
   "file_extension": ".py",
   "mimetype": "text/x-python",
   "name": "python",
   "nbconvert_exporter": "python",
   "pygments_lexer": "ipython3",
   "version": "3.10.6"
  }
 },
 "nbformat": 4,
 "nbformat_minor": 5
}